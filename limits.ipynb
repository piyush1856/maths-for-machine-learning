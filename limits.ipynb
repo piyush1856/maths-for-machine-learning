{
  "nbformat": 4,
  "nbformat_minor": 0,
  "metadata": {
    "colab": {
      "provenance": [],
      "authorship_tag": "ABX9TyN2IC8b2ojz1ovhJyoSGx3v",
      "include_colab_link": true
    },
    "kernelspec": {
      "name": "python3",
      "display_name": "Python 3"
    },
    "language_info": {
      "name": "python"
    }
  },
  "cells": [
    {
      "cell_type": "markdown",
      "metadata": {
        "id": "view-in-github",
        "colab_type": "text"
      },
      "source": [
        "<a href=\"https://colab.research.google.com/github/piyush1856/maths-for-machine-learning/blob/main/limits.ipynb\" target=\"_parent\"><img src=\"https://colab.research.google.com/assets/colab-badge.svg\" alt=\"Open In Colab\"/></a>"
      ]
    },
    {
      "cell_type": "code",
      "execution_count": 10,
      "metadata": {
        "id": "3v9OqYNXyjc4"
      },
      "outputs": [],
      "source": [
        "import numpy as np\n",
        "import matplotlib.pyplot as plt\n",
        "import math"
      ]
    },
    {
      "cell_type": "code",
      "source": [
        "def function1(x):\n",
        "  return 2 if x < 3 else 5"
      ],
      "metadata": {
        "id": "qlYkpHDLysIc"
      },
      "execution_count": 2,
      "outputs": []
    },
    {
      "cell_type": "code",
      "source": [
        "x_vals = np.linspace(-5, 5, 1000)\n",
        "y_vals = [function1(x) for x in x_vals]"
      ],
      "metadata": {
        "id": "AfOizJv-y4Gv"
      },
      "execution_count": 4,
      "outputs": []
    },
    {
      "cell_type": "code",
      "source": [
        "plt.plot(x_vals, y_vals)\n",
        "plt.show()"
      ],
      "metadata": {
        "colab": {
          "base_uri": "https://localhost:8080/",
          "height": 430
        },
        "id": "9QtIh_ekzHVW",
        "outputId": "ccbba081-6089-4129-cbe5-3bcbe94969fb"
      },
      "execution_count": 5,
      "outputs": [
        {
          "output_type": "display_data",
          "data": {
            "text/plain": [
              "<Figure size 640x480 with 1 Axes>"
            ],
            "image/png": "[encoded data removed]"
          },
          "metadata": {}
        }
      ]
    },
    {
      "cell_type": "code",
      "source": [
        "# Gives the sequence of values reaching the right hand limit of function f at x=a\n",
        "def right_limit(f, a):\n",
        "  x_values = np.linspace(a+0.01, a, 10, endpoint = False)\n",
        "  y_values = [f(x) for x in x_values]\n",
        "  return y_values"
      ],
      "metadata": {
        "id": "31eLzTunzPjt"
      },
      "execution_count": 6,
      "outputs": []
    },
    {
      "cell_type": "code",
      "source": [
        "# Gives the sequence of values reaching the left hand limit of function f at x=a\n",
        "def left_limit(f, a):\n",
        "  x_values = np.linspace(a-0.01, a, 10, endpoint = False)\n",
        "  y_values = [f(x) for x in x_values]\n",
        "  return y_values"
      ],
      "metadata": {
        "id": "XwmWik3D0QHF"
      },
      "execution_count": 7,
      "outputs": []
    },
    {
      "cell_type": "code",
      "source": [
        "right_limit(function1, 3)"
      ],
      "metadata": {
        "colab": {
          "base_uri": "https://localhost:8080/"
        },
        "id": "rF4RCac70Xux",
        "outputId": "cd5ac744-5829-4684-f650-cb9103997ec7"
      },
      "execution_count": 8,
      "outputs": [
        {
          "output_type": "execute_result",
          "data": {
            "text/plain": [
              "[5, 5, 5, 5, 5, 5, 5, 5, 5, 5]"
            ]
          },
          "metadata": {},
          "execution_count": 8
        }
      ]
    },
    {
      "cell_type": "code",
      "source": [
        "left_limit(function1, 3)"
      ],
      "metadata": {
        "colab": {
          "base_uri": "https://localhost:8080/"
        },
        "id": "u0uIfLEn0dSc",
        "outputId": "fb9d66af-7957-4436-9697-d5de233e0403"
      },
      "execution_count": 9,
      "outputs": [
        {
          "output_type": "execute_result",
          "data": {
            "text/plain": [
              "[2, 2, 2, 2, 2, 2, 2, 2, 2, 2]"
            ]
          },
          "metadata": {},
          "execution_count": 9
        }
      ]
    },
    {
      "cell_type": "code",
      "source": [
        "def function1(x):\n",
        "    return math.exp(x)"
      ],
      "metadata": {
        "id": "eWhKjMR247No"
      },
      "execution_count": 11,
      "outputs": []
    },
    {
      "cell_type": "code",
      "source": [
        "x_vals = np.linspace(-5, 5, 1000)\n",
        "y_vals = [function1(x) for x in x_vals]\n",
        "plt.plot(x_vals, y_vals)\n",
        "plt.show()"
      ],
      "metadata": {
        "colab": {
          "base_uri": "https://localhost:8080/",
          "height": 430
        },
        "id": "7YkMXj7i48iA",
        "outputId": "375783e5-4c4e-4827-d397-d67f4edf2c2a"
      },
      "execution_count": 14,
      "outputs": [
        {
          "output_type": "display_data",
          "data": {
            "text/plain": [
              "<Figure size 640x480 with 1 Axes>"
            ],
            "image/png": "[encoded data removed]"
          },
          "metadata": {}
        }
      ]
    },
    {
      "cell_type": "code",
      "source": [
        "right_limit(function1, 0)"
      ],
      "metadata": {
        "colab": {
          "base_uri": "https://localhost:8080/"
        },
        "id": "Pu1osq8a5r54",
        "outputId": "80c3db8a-55cc-4c89-cf3e-8fe244aad695"
      },
      "execution_count": 15,
      "outputs": [
        {
          "output_type": "execute_result",
          "data": {
            "text/plain": [
              "[1.010050167084168,\n",
              " 1.0090406217738679,\n",
              " 1.0080320855042735,\n",
              " 1.0070245572668486,\n",
              " 1.006018036054065,\n",
              " 1.005012520859401,\n",
              " 1.004008010677342,\n",
              " 1.003004504503377,\n",
              " 1.0020020013340003,\n",
              " 1.0010005001667084]"
            ]
          },
          "metadata": {},
          "execution_count": 15
        }
      ]
    },
    {
      "cell_type": "code",
      "source": [
        "left_limit(function1, 0)"
      ],
      "metadata": {
        "colab": {
          "base_uri": "https://localhost:8080/"
        },
        "id": "aN4mwmbo5t-Z",
        "outputId": "023e22ca-9fa6-49cb-8eb0-f3f8324eecce"
      },
      "execution_count": 16,
      "outputs": [
        {
          "output_type": "execute_result",
          "data": {
            "text/plain": [
              "[0.9900498337491681,\n",
              " 0.9910403787728836,\n",
              " 0.9920319148370607,\n",
              " 0.9930244429332351,\n",
              " 0.9940179640539353,\n",
              " 0.9950124791926823,\n",
              " 0.9960079893439915,\n",
              " 0.997004495503373,\n",
              " 0.9980019986673331,\n",
              " 0.999000499833375]"
            ]
          },
          "metadata": {},
          "execution_count": 16
        }
      ]
    }
  ]
}